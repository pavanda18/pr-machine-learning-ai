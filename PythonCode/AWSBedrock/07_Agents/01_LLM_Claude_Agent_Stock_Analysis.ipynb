{
 "cells": [
  {
   "cell_type": "markdown",
   "metadata": {},
   "source": [
    "## Bedrock model integration with Langchain Agents \n",
    "### Financial stock analyser example \n",
    "\n",
    "**Reference**: https://medium.com/@pranav.kushare2001/an-ai-based-stock-analyzer-using-llm-and-langchain-7f8a62cbcaaa\n",
    "\n",
    "**Note:** The code in the notebook is based on the medium post, the link for which is provided as reference above. \n",
    "\n",
    "Certain applications demand an adaptable sequence of calls to language models and various utilities depending on user input. The Agent interface enables such flexibility for these applications. An agent has availability to a range of resources and selects which ones to utilize based on the user input. Agents are capable of using multiple tools and utilizing the output of one tool as the input for the next.  \n",
    "\n",
    "There are two primary categories of agents:\n",
    "\n",
    "- Action agents: At each interval, determine the subsequent action utilizing the outputs of all previous actions. \n",
    "- Plan-and-execute agents: Determine the complete order of actions initially, then implement them all without updating the plan.\n",
    "\n",
    "In this notebook, we will demonstrate the use `Zero-shot ReAct` agent based on [`ReAct`](https://arxiv.org/pdf/2205.00445.pdf) framework to select the appropriate tool based exclusively on the tool's description. It requires you provide the description of each tool. "
   ]
  },
  {
   "cell_type": "markdown",
   "metadata": {},
   "source": [
    "## Architecture\n",
    "![](./images/arch-agents.png)"
   ]
  },
  {
   "cell_type": "markdown",
   "metadata": {},
   "source": [
    "## Setup\n",
    "\n",
    "⚠️ ⚠️ ⚠️ Before running this notebook, ensure you've run the [Bedrock boto3 setup notebook](../00_Intro/bedrock_boto3_setup.ipynb#Prerequisites) notebook. ⚠️ ⚠️ ⚠️\n"
   ]
  },
  {
   "cell_type": "code",
   "execution_count": null,
   "metadata": {},
   "outputs": [],
   "source": [
    "import json\n",
    "import os\n",
    "import sys\n",
    "import boto3\n",
    "\n",
    "module_path = \"..\"\n",
    "sys.path.append(os.path.abspath(module_path))\n",
    "from utils import bedrock, print_ww\n",
    "\n",
    "\n",
    "# ---- ⚠️ Un-comment and edit the below lines as needed for your AWS setup ⚠️ ----\n",
    "\n",
    "# os.environ[\"AWS_DEFAULT_REGION\"] = \"<REGION_NAME>\"  # E.g. \"us-east-1\"\n",
    "# os.environ[\"AWS_PROFILE\"] = \"<YOUR_PROFILE>\"\n",
    "# os.environ[\"BEDROCK_ASSUME_ROLE\"] = \"<YOUR_ROLE_ARN>\"  # E.g. \"arn:aws:...\"\n",
    "\n",
    "\n",
    "boto3_bedrock = bedrock.get_bedrock_client(\n",
    "    assumed_role=os.environ.get(\"BEDROCK_ASSUME_ROLE\", None),\n",
    "    region=os.environ.get(\"AWS_DEFAULT_REGION\", None),\n",
    ")"
   ]
  },
  {
   "cell_type": "code",
   "execution_count": null,
   "metadata": {},
   "outputs": [],
   "source": [
    "from langchain.llms.bedrock import Bedrock\n",
    "from typing import Optional, List, Any\n",
    "from langchain.callbacks.manager import CallbackManagerForLLMRun\n",
    "\n",
    "class BedrockModelWrapper(Bedrock):\n",
    "    def _call(\n",
    "        self,\n",
    "        prompt: str,\n",
    "        stop: Optional[List[str]] = None,\n",
    "        run_manager: Optional[CallbackManagerForLLMRun] = None,\n",
    "        **kwargs: Any,\n",
    "    ) -> str:\n",
    "        prompt = \"\\n\\nHuman: \" + prompt + \"\\n\\nAssistant:\"   ## Satisfy Bedrock-Claude prompt requirements\n",
    "        return super()._call(prompt, stop, run_manager, **kwargs)"
   ]
  },
  {
   "cell_type": "code",
   "execution_count": null,
   "metadata": {},
   "outputs": [],
   "source": [
    "\n",
    "model_parameter = {\"temperature\": 0.0, \"top_p\": .5, \"max_tokens_to_sample\": 2000}\n",
    "llm = BedrockModelWrapper(model_id=\"anthropic.claude-v2\", client=boto3_bedrock, model_kwargs=model_parameter)\n"
   ]
  },
  {
   "cell_type": "markdown",
   "metadata": {},
   "source": [
    "## Part 1 - Prepare dataset in SQLite Database"
   ]
  },
  {
   "cell_type": "code",
   "execution_count": null,
   "metadata": {},
   "outputs": [],
   "source": [
    "## database\n",
    "stock_ticker_data=[ \n",
    "    {\n",
    "        \"symbol\" : \"PRAA\",\n",
    "        \"name\" : \"PRA Group, Inc.\",\n",
    "        \"currency\" : \"USD\",\n",
    "        \"stockExchange\" : \"NasdaqGS\",\n",
    "        \"exchangeShortName\" : \"NASDAQ\"\n",
    "    }, \n",
    "    {\n",
    "        \"symbol\" : \"AMZN\",\n",
    "        \"name\" : \"Amazon.com, Inc.\",\n",
    "        \"currency\" : \"USD\",\n",
    "        \"stockExchange\" : \"NasdaqGS\",\n",
    "        \"exchangeShortName\" : \"NASDAQ\"\n",
    "    }, \n",
    "    {\n",
    "        \"symbol\" : \"TSLA\",\n",
    "        \"name\" : \"Tesla Inc.\",\n",
    "        \"currency\" : \"USD\",\n",
    "        \"stockExchange\" : \"NasdaqGS\",\n",
    "        \"exchangeShortName\" : \"NASDAQ\"\n",
    "    }, \n",
    "    {\n",
    "        \"symbol\" : \"PAAS\",\n",
    "        \"name\" : \"Pan American Silver Corp.\",\n",
    "        \"currency\" : \"USD\",\n",
    "        \"stockExchange\" : \"NasdaqGS\",\n",
    "        \"exchangeShortName\" : \"NASDAQ\"\n",
    "    }, \n",
    "    {\n",
    "        \"symbol\" : \"PAAC\",\n",
    "        \"name\" : \"Proficient Alpha Acquisition Corp.\",\n",
    "        \"currency\" : \"USD\",\n",
    "        \"stockExchange\" : \"NasdaqCM\",\n",
    "        \"exchangeShortName\" : \"NASDAQ\"\n",
    "    }, \n",
    "    {\n",
    "        \"symbol\" : \"RYAAY\",\n",
    "        \"name\" : \"Ryanair Holdings plc\",\n",
    "        \"currency\" : \"USD\",\n",
    "        \"stockExchange\" : \"NasdaqGS\",\n",
    "        \"exchangeShortName\" : \"NASDAQ\"\n",
    "    }, \n",
    "    {\n",
    "        \"symbol\" : \"MPAA\",\n",
    "        \"name\" : \"Motorcar Parts of America, Inc.\",\n",
    "        \"currency\" : \"USD\",\n",
    "        \"stockExchange\" : \"NasdaqGS\",\n",
    "        \"exchangeShortName\" : \"NASDAQ\"\n",
    "    }, \n",
    "    {\n",
    "        \"symbol\" : \"STAA\",\n",
    "        \"name\" : \"STAAR Surgical Company\",\n",
    "        \"currency\" : \"USD\",\n",
    "        \"stockExchange\" : \"NasdaqGM\",\n",
    "        \"exchangeShortName\" : \"NASDAQ\"\n",
    "    }, \n",
    "    {\n",
    "        \"symbol\" : \"RBCAA\",\n",
    "        \"name\" : \"Republic Bancorp, Inc.\",\n",
    "        \"currency\" : \"USD\",\n",
    "        \"stockExchange\" : \"NasdaqGS\",\n",
    "        \"exchangeShortName\" : \"NASDAQ\"\n",
    "    }, \n",
    "    {\n",
    "        \"symbol\" : \"AABA\",\n",
    "        \"name\" : \"Altaba Inc.\",\n",
    "        \"currency\" : \"USD\",\n",
    "        \"stockExchange\" : \"NasdaqGS\",\n",
    "        \"exchangeShortName\" : \"NASDAQ\"    \n",
    "    }, \n",
    "    {\n",
    "        \"symbol\" : \"AAXJ\",\n",
    "        \"name\" : \"iShares MSCI All Country Asia ex Japan ETF\",\n",
    "        \"currency\" : \"USD\",\n",
    "        \"stockExchange\" : \"NasdaqGM\",\n",
    "        \"exchangeShortName\" : \"NASDAQ\"\n",
    "    }, \n",
    "    {\n",
    "        \"symbol\" : \"ZNWAA\",\n",
    "        \"name\" : \"Zion Oil & Gas, Inc.\",\n",
    "        \"currency\" : \"USD\",\n",
    "        \"stockExchange\" : \"NasdaqGM\",\n",
    "        \"exchangeShortName\" : \"NASDAQ\"\n",
    "    }\n",
    "]"
   ]
  },
  {
   "cell_type": "code",
   "execution_count": null,
   "metadata": {},
   "outputs": [],
   "source": [
    "import sqlite3\n",
    "def create_connection(db_file):\n",
    "    \"\"\" create a database connection to the SQLite database\n",
    "        specified by db_file\n",
    "    :param db_file: database file\n",
    "    :return: Connection object or None\n",
    "    \"\"\"\n",
    "    conn = None\n",
    "    try:\n",
    "        conn = sqlite3.connect(db_file)\n",
    "        return conn\n",
    "    except FileExistsError as e:\n",
    "        print(e)\n",
    "\n",
    "    return conn"
   ]
  },
  {
   "cell_type": "code",
   "execution_count": null,
   "metadata": {},
   "outputs": [],
   "source": [
    "def create_table(conn, create_table_sql):\n",
    "    \"\"\" create a table from the create_table_sql statement\n",
    "    :param conn: Connection object\n",
    "    :param create_table_sql: a CREATE TABLE statement\n",
    "    :return:\n",
    "    \"\"\"\n",
    "    try:\n",
    "        c = conn.cursor()\n",
    "        c.execute(create_table_sql)\n",
    "    except RuntimeError as e:\n",
    "        print(e)"
   ]
  },
  {
   "cell_type": "code",
   "execution_count": null,
   "metadata": {},
   "outputs": [],
   "source": [
    "db_name = \"stock_ticker_database.db\"\n",
    "conn = create_connection(db_name)"
   ]
  },
  {
   "cell_type": "code",
   "execution_count": null,
   "metadata": {},
   "outputs": [],
   "source": [
    "create_table_sql = \"\"\"CREATE TABLE IF NOT EXISTS stock_ticker (\n",
    "\tsymbol text PRIMARY KEY,\n",
    "\tname text NOT NULL,\n",
    "\tcurrency text,\n",
    "\tstockExchange text, \n",
    "    exchangeShortName text\n",
    ");\"\"\"\n"
   ]
  },
  {
   "cell_type": "code",
   "execution_count": null,
   "metadata": {},
   "outputs": [],
   "source": [
    "# create tables\n",
    "if conn is not None:\n",
    "    # create projects table\n",
    "    create_table(conn, create_table_sql)\n",
    "else:\n",
    "    print(\"Error! cannot create the database connection.\")\n"
   ]
  },
  {
   "cell_type": "code",
   "execution_count": null,
   "metadata": {},
   "outputs": [],
   "source": [
    "def insert_data(data):\n",
    "    for item in data:\n",
    "        conn.execute(\"INSERT INTO stock_ticker (symbol, name, currency,stockExchange, exchangeShortName ) VALUES (?, ?, ?, ?,?)\", \n",
    "                    (item[\"symbol\"], item[\"name\"], item[\"currency\"], item[\"stockExchange\"],item[\"exchangeShortName\"]))\n",
    "    conn.commit()\n",
    "    conn.close()"
   ]
  },
  {
   "cell_type": "code",
   "execution_count": null,
   "metadata": {},
   "outputs": [],
   "source": [
    "\n",
    "# uncomment to insert data if the data doesn't exist in the table.\n",
    "# insert_data(stock_ticker_data)"
   ]
  },
  {
   "cell_type": "markdown",
   "metadata": {},
   "source": [
    "## Part 2 - Database Tools\n",
    "A common use of an agent is to look up a record in a database. It would not be practical to include the full database in the context, so you can provide tools that perform actions against the datebase that eliminates hallucinations while maintining the conversational interactions.\n",
    "\n",
    "### SQL Database Agent\n",
    "Langchain has a SQL Database agent for demonstrating how to ask questions of a DB to get answers. For details, read this document: https://python.langchain.com/docs/integrations/toolkits/sql_database\n",
    "\n",
    "The agent will load the schema of the DB into context and generate SQL statements based on natural language questions. The SQL statement is then executed against the database and the results returned.\n",
    "\n",
    "### Data Agents\n",
    "While the SQL Database agent is useful for data exploration and generating queries, there are also cases where you want to \n",
    "For specific entities, a tool can be created to pull data from the database to provide context next steps in the prompt.\n",
    "\n",
    "The following example will simulate a DB query for a customer in the customer table. Replace this code with a lookup ib DynamoDB or a relation database."
   ]
  },
  {
   "cell_type": "code",
   "execution_count": null,
   "metadata": {},
   "outputs": [],
   "source": [
    "from langchain.utilities import SQLDatabase\n",
    "from langchain_experimental.sql import SQLDatabaseChain"
   ]
  },
  {
   "cell_type": "code",
   "execution_count": null,
   "metadata": {},
   "outputs": [],
   "source": [
    "db = SQLDatabase.from_uri(\"sqlite:///stock_ticker_database.db\")\n"
   ]
  },
  {
   "cell_type": "code",
   "execution_count": null,
   "metadata": {},
   "outputs": [],
   "source": [
    "from langchain.prompts.prompt import PromptTemplate\n",
    "\n",
    "_DEFAULT_TEMPLATE = \"\"\"Human: Given an input question, first create a syntactically correct {dialect} query to run, then look at the results of the query and return the answer.\n",
    "<format>\n",
    "Question: \"Question here\"\n",
    "SQLQuery: \"SQL Query to run\"\n",
    "SQLResult: \"Result of the SQLQuery\"\n",
    "Answer: \"Result of SQLResult only\"\n",
    "</format>\n",
    "Assistant: Understood, I will use the above format and only provide the answer.\n",
    "\n",
    "Only use the following tables:\n",
    "<tables>\n",
    "CREATE TABLE stock_ticker (\n",
    "\tsymbol text PRIMARY KEY,\n",
    "\tname text NOT NULL,\n",
    "\tcurrency text,\n",
    "\tstockExchange text, \n",
    "    exchangeShortName text\n",
    ")\n",
    "</tables>\n",
    "\n",
    "If someone asks for the table stock ticker table, they really mean the stock_ticker table.\n",
    "<examples>\n",
    "Question: \n",
    "        What is the ticker symbol for Amazon in stock ticker table?\n",
    "        Params: \n",
    "        Company name (name): Amazon\n",
    "        \n",
    "SQLQuery:SELECT symbol FROM stock_ticker WHERE name LIKE '%Amazon%'\n",
    "\n",
    "</examples>\n",
    "\n",
    "Question: {input}\n",
    "\n",
    "\"\"\"\n",
    "\n",
    "PROMPT = PromptTemplate(\n",
    "    input_variables=[\"input\", \"dialect\"], template=_DEFAULT_TEMPLATE\n",
    ")"
   ]
  },
  {
   "cell_type": "code",
   "execution_count": null,
   "metadata": {},
   "outputs": [],
   "source": [
    "db_chain = SQLDatabaseChain.from_llm(\n",
    "    llm, \n",
    "    db, \n",
    "    verbose=True, \n",
    "    return_intermediate_steps=True, \n",
    "    prompt=PROMPT, \n",
    "    )\n",
    "response = db_chain(\"\\n\\nHuman: What is the ticker symbol for Tesla in stock ticker table? \\n\\nAssistant:\")\n"
   ]
  },
  {
   "cell_type": "code",
   "execution_count": null,
   "metadata": {},
   "outputs": [],
   "source": [
    "response['result']"
   ]
  },
  {
   "cell_type": "code",
   "execution_count": null,
   "metadata": {},
   "outputs": [],
   "source": [
    "print(response['intermediate_steps'][0]['input'])"
   ]
  },
  {
   "cell_type": "markdown",
   "metadata": {},
   "source": [
    "## Part 3 - Helper functions which will be called by ReAct Agent."
   ]
  },
  {
   "cell_type": "code",
   "execution_count": null,
   "metadata": {},
   "outputs": [],
   "source": [
    "import json\n",
    "import time\n",
    "from bs4 import BeautifulSoup\n",
    "import re\n",
    "import requests\n",
    "\n",
    "from langchain.agents import load_tools, AgentType, Tool, initialize_agent\n",
    "from pandas_datareader import data as pdr\n",
    "from datetime import date\n",
    "import yfinance as yf\n",
    "yf.pdr_override() \n",
    "import pandas as pd\n",
    "from datetime import datetime, timedelta\n",
    "\n",
    "import warnings\n",
    "import os\n",
    "warnings.filterwarnings(\"ignore\")\n",
    "\n",
    "def get_stock_price(ticker, history=10):\n",
    " print (ticker)\n",
    " today = date.today()\n",
    " start_date = today - timedelta(days=history)\n",
    " data = pdr.get_data_yahoo(ticker, start=start_date, end=today)\n",
    " dataname= ticker+'_'+str(today)\n",
    " return data, dataname\n",
    "\n",
    "# Fetch top 5 google news for given company name\n",
    "def google_query(search_term):\n",
    "    if \"news\" not in search_term:\n",
    "        search_term=search_term+\" stock news\"\n",
    "    url=f\"https://www.google.com/search?q={search_term}\"\n",
    "    url=re.sub(r\"\\s\",\"+\",url)\n",
    "    return url\n",
    "\n",
    "def get_recent_stock_news(company_name):\n",
    "    headers={'User-Agent': 'Mozilla/5.0 (Windows NT 10.0; Win64; x64) AppleWebKit/537.36 (KHTML, like Gecko) Chrome/102.0.0.0 Safari/537.36'}\n",
    "\n",
    "    g_query=google_query(company_name)\n",
    "    res=requests.get(g_query,headers=headers).text\n",
    "    soup=BeautifulSoup(res,\"html.parser\")\n",
    "    news=[]\n",
    "    for n in soup.find_all(\"div\",\"n0jPhd ynAwRc tNxQIb nDgy9d\"):\n",
    "        news.append(n.text)\n",
    "    for n in soup.find_all(\"div\",\"IJl0Z\"):\n",
    "        news.append(n.text)\n",
    "\n",
    "    if len(news)>6:\n",
    "        news=news[:4]\n",
    "    else:\n",
    "        news=news\n",
    "    news_string=\"\"\n",
    "    for i,n in enumerate(news):\n",
    "        news_string+=f\"{i}. {n}\\n\"\n",
    "    top5_news=\"Recent News:\\n\\n\"+news_string\n",
    "    \n",
    "    return top5_news\n",
    "\n",
    "\n",
    "# Get financial statements from Yahoo Finance\n",
    "def get_financial_statements(ticker):\n",
    "    if \".\" in ticker:\n",
    "        ticker=ticker.split(\".\")[0]\n",
    "    else:\n",
    "        ticker=ticker\n",
    "    company = yf.Ticker(ticker)\n",
    "    balance_sheet = company.balance_sheet\n",
    "    if balance_sheet.shape[1]>=3:\n",
    "        balance_sheet=balance_sheet.iloc[:,:3]    # Only captures last 3 years of data\n",
    "    balance_sheet=balance_sheet.dropna(how=\"any\")\n",
    "    balance_sheet = balance_sheet.to_string()\n",
    "    return balance_sheet\n",
    "\n",
    "def Anazlyze_stock(query):\n",
    "    Company_name,ticker=get_stock_ticker(query)\n",
    "    print({\"Query\":query,\"Company_name\":Company_name,\"Ticker\":ticker})\n",
    "    stock_data=get_stock_price(ticker,history=10)\n",
    "    stock_financials=get_financial_statements(ticker)\n",
    "    stock_news=get_recent_stock_news(Company_name)\n",
    "\n",
    "    available_information=f\"Stock Price: {stock_data}\\n\\nStock Financials: {stock_financials}\\n\\nStock News: {stock_news}\"\n",
    "    analysis=llm(f\"\"\"\\n\\nHuman: Give detail stock analysis, Use the available data and provide investment recommendation. \\\n",
    "             The user is fully aware about the investment risk, dont include any kind of warning like 'It is recommended to conduct further research and analysis or consult with a financial advisor before making an investment decision' in the answer \\\n",
    "             User question: {query} \\\n",
    "             You have the following information available about {Company_name}. Write (5-8) pointwise investment analysis to answer user query, At the end conclude with proper explaination.Try to Give positives and negatives  : \\\n",
    "              {available_information} \\\n",
    "                \\n\\nAssistant: \"\"\"\n",
    "             )\n",
    "    return analysis"
   ]
  },
  {
   "cell_type": "code",
   "execution_count": null,
   "metadata": {},
   "outputs": [],
   "source": [
    "# Uncomment to test individual functions before using it with the model.\n",
    "# print(get_stock_price(\"TSLA\"))\n",
    "# print(get_recent_stock_news(\"tesla\"))\n",
    "# print(get_financial_statements(\"TSLA\"))"
   ]
  },
  {
   "cell_type": "code",
   "execution_count": null,
   "metadata": {},
   "outputs": [],
   "source": [
    "# DuckDuckGoSearch code\n",
    "from langchain.tools import DuckDuckGoSearchRun\n",
    "search=DuckDuckGoSearchRun()\n",
    "\n",
    "search(\"Stock news USA\")\n"
   ]
  },
  {
   "cell_type": "markdown",
   "metadata": {},
   "source": [
    "## Part 4 - Using ReAct: Synergizing Reasoning and Acting in Language Models Framework\n",
    "Large language models can generate both explanations for their reasoning and task-specific responses in an alternating fashion. \n",
    "\n",
    "Producing reasoning explanations enables the model to infer, monitor, and revise action plans, and even handle unexpected scenarios. The action step allows the model to interface with and obtain information from external sources such as knowledge bases or environments.\n",
    "\n",
    "The ReAct framework could enable large language models to interact with external tools to obtain additional information that results in more accurate and fact-based responses."
   ]
  },
  {
   "cell_type": "code",
   "execution_count": null,
   "metadata": {
    "tags": []
   },
   "outputs": [],
   "source": [
    "from langchain.agents import load_tools\n",
    "from langchain.agents import initialize_agent, Tool\n",
    "from langchain.agents import AgentType\n",
    "from langchain import LLMMathChain"
   ]
  },
  {
   "cell_type": "code",
   "execution_count": null,
   "metadata": {
    "tags": []
   },
   "outputs": [],
   "source": [
    "llm = BedrockModelWrapper(model_id=\"anthropic.claude-v2\", client=boto3_bedrock, model_kwargs=model_parameter)"
   ]
  },
  {
   "cell_type": "code",
   "execution_count": null,
   "metadata": {
    "tags": []
   },
   "outputs": [],
   "source": [
    "# Making tool list\n",
    "\n",
    "tools=[\n",
    "    Tool(\n",
    "        name=\"get stock data\",\n",
    "        func=get_stock_price,\n",
    "        description=\"Use when you are asked to evaluate or analyze a stock. This will output historic share price data. You should input the the stock ticker to it \"\n",
    "    ),\n",
    "    Tool(\n",
    "        name=\"DuckDuckGo Search\",\n",
    "        func=search.run,\n",
    "        description=\"Use only when you need to get stock ticker from internet, you can also get recent stock related news. Dont use it for any other analysis or task\"\n",
    "    ),\n",
    "    Tool(\n",
    "        name=\"get recent news\",\n",
    "        func=get_recent_stock_news,\n",
    "        description=\"Use this to fetch recent news about stocks\"\n",
    "    ),\n",
    "\n",
    "    Tool(\n",
    "        name=\"get financial statements\",\n",
    "        func=get_financial_statements,\n",
    "        description=\"Use this to get financial statement of the company. With the help of this data companys historic performance can be evaluaated. You should input stock ticker to it\"\n",
    "    ) \n",
    "\n",
    "\n",
    "]"
   ]
  },
  {
   "cell_type": "code",
   "execution_count": null,
   "metadata": {},
   "outputs": [],
   "source": [
    "# Modify prompt to using Human: tag, and add predefine evaluation steps\n",
    "\n",
    "updated_prompt=\"\"\"Human: You are a financial advisor. Give stock recommendations for given query based on following instructions. \n",
    "<instructions>\n",
    "Everytime first you should identify the company name and get the stock ticker symbol for the stock from the database.\n",
    "Answer the following questions as best you can. You have access to the following tools:\n",
    "\n",
    "get stock data: Use when you are asked to evaluate or analyze a stock. This will output historic share price data. You should input the the stock ticker to it\n",
    "DuckDuckGo Search: Use only to get recent stock related news. Dont use it for any other analysis or task\n",
    "get recent news: Use this to fetch recent news about stocks\n",
    "get financial statements: Use this to get financial statement of the company. With the help of this data companys historic performance can be evaluaated. You should input stock ticker to it\n",
    "</instructions>\n",
    "\n",
    "<steps>\n",
    "Note- if you fail in satisfying any of the step below, Just move to next one\n",
    "1) Get the company name and search for the \"company name + stock ticker\" in database. Dont hallucinate extract stock ticker as it is from the text. Output- stock ticker\n",
    "2) Use \"get stock data\" tool to gather stock info. Output- Stock data\n",
    "3) Get company's historic financial data using \"get financial statements\". Output- Financial statement\n",
    "4) Use this \"get recent news\" tool to search for latest stock realted news. Output- Stock news\n",
    "5) Analyze the stock based on gathered data and give detail analysis for investment choice. provide numbers and reasons to justify your answer. Output- Detailed stock Analysis\n",
    "</steps>\n",
    "\n",
    "Use the following format:\n",
    "Question: the input question you must answer\n",
    "Thought: you should always think about what to do, Also try to follow steps mentioned above\n",
    "Action: the action to take, should be one of [get stock data, DuckDuckGo Search, get recent news, get financial statements]\n",
    "Action Input: the input to the action\n",
    "Observation: the result of the action\n",
    "... (this Thought/Action/Action Input/Observation can repeat N times)\n",
    "Thought: I now know the final answer\n",
    "Final Answer: the final answer to the original input question\n",
    "\n",
    "Question: {input}\n",
    "\n",
    "Assistant:\n",
    "{agent_scratchpad}\n",
    "\n",
    "\"\"\"\n"
   ]
  },
  {
   "cell_type": "code",
   "execution_count": null,
   "metadata": {},
   "outputs": [],
   "source": [
    "from langchain.agents import initialize_agent \n",
    "\n",
    "zero_shot_agent=initialize_agent(\n",
    "    llm=llm,\n",
    "    agent=\"zero-shot-react-description\",\n",
    "    tools=tools,\n",
    "    verbose=True,\n",
    "    max_iteration=2,\n",
    "    return_intermediate_steps=True,\n",
    "    handle_parsing_errors=True,\n",
    ")\n",
    "\n",
    "zero_shot_agent.agent.llm_chain.prompt.template=updated_prompt"
   ]
  },
  {
   "cell_type": "code",
   "execution_count": null,
   "metadata": {},
   "outputs": [],
   "source": [
    "response = zero_shot_agent(\"\\n\\nHuman: Is Tesla a good investment choice right now? \\n\\nAssistant:\")"
   ]
  },
  {
   "cell_type": "code",
   "execution_count": null,
   "metadata": {},
   "outputs": [],
   "source": [
    "# print output\n",
    "print(response[\"output\"])"
   ]
  },
  {
   "cell_type": "code",
   "execution_count": null,
   "metadata": {},
   "outputs": [],
   "source": [
    "#print intermediate steps\n",
    "print(response[\"intermediate_steps\"])"
   ]
  }
 ],
 "metadata": {
  "kernelspec": {
   "display_name": "Python 3 (ipykernel)",
   "language": "python",
   "name": "python3"
  },
  "language_info": {
   "codemirror_mode": {
    "name": "ipython",
    "version": 3
   },
   "file_extension": ".py",
   "mimetype": "text/x-python",
   "name": "python",
   "nbconvert_exporter": "python",
   "pygments_lexer": "ipython3",
   "version": "3.10.4"
  },
  "vscode": {
   "interpreter": {
    "hash": "00878cbed564b904a98b4a19808853cb6b9988746b881ea025a8408713879bf5"
   }
  }
 },
 "nbformat": 4,
 "nbformat_minor": 4
}
